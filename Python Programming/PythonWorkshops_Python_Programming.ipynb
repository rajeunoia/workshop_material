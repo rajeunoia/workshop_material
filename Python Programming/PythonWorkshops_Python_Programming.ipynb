{
 "cells": [
  {
   "cell_type": "markdown",
   "metadata": {},
   "source": [
    "# Intro to Python \n",
    "\n",
    "### Copyright by PythonWorkshops"
   ]
  },
  {
   "cell_type": "markdown",
   "metadata": {},
   "source": [
    "Python is easy to learn, understand and debug\n",
    "\n",
    "Python is interpreted, that means"
   ]
  },
  {
   "cell_type": "code",
   "execution_count": null,
   "metadata": {},
   "outputs": [],
   "source": [
    "15 * 5 + 10 * 6"
   ]
  },
  {
   "cell_type": "code",
   "execution_count": null,
   "metadata": {},
   "outputs": [],
   "source": [
    "16384/1024"
   ]
  },
  {
   "cell_type": "markdown",
   "metadata": {},
   "source": [
    "code is executed line by line. \n",
    "\n",
    "We don't need a main function or standard structure to run code in python."
   ]
  },
  {
   "cell_type": "markdown",
   "metadata": {},
   "source": [
    "## Install Python"
   ]
  },
  {
   "cell_type": "markdown",
   "metadata": {},
   "source": [
    "Download and Install [Python Annaconda](https://docs.anaconda.com/anaconda/install/)\n",
    "\n",
    "Incase if you have any trouble with Installation, [First search here](https://stackoverflow.com)\n",
    "\n",
    "Open Anaconda Navigator > Launch Jupyter > New-Notebook-Python3"
   ]
  },
  {
   "cell_type": "markdown",
   "metadata": {},
   "source": [
    "### What are we going to learn \n",
    "\n",
    " [First program](#First-Program)<br>\n",
    " [Variables and Types](#Variables-and-Types)<br>\n",
    " [Numbers and Math](#Numbers-and-Math)<br>\n",
    " [Input from users](#Input-from-users)<br>\n",
    " [Passing arguments](#Passing-Arguments)<br>\n",
    " [Indentation and Block of code](#Indentation-and-Block-of-code)<br>\n",
    " [Functions, Parameters, Returns](#Functions,-Parameters,-Returns)<br>\n",
    " [Conditional statements - If elif else](#Conditional-statements---If-elif-else)<br>\n",
    " [Loops - For and While](#Loops---For-and-While) <br>\n",
    " [Lists](#Lists)<br>\n",
    " [Tuples](#Tuples)<br>\n",
    " [Dictonaries](#Dictonaries)<br>\n",
    " [Sets](#Sets)<br>\n",
    " [Strings](#Strings)<br>\n",
    " [File operations](#File-operations)<br>\n",
    " [Exception handling](#Exception-handling)<br>\n",
    " [Python Project](#Python-Project)<br>\n",
    " "
   ]
  },
  {
   "cell_type": "markdown",
   "metadata": {},
   "source": [
    "# First Program "
   ]
  },
  {
   "cell_type": "code",
   "execution_count": null,
   "metadata": {},
   "outputs": [],
   "source": [
    "print(\"I want to learn Python\")\n",
    "print(\"I love programming\")\n",
    "print(\"This is the way to print output in Python\")"
   ]
  },
  {
   "cell_type": "markdown",
   "metadata": {},
   "source": [
    "### Complete  [Try it #01](PythonWorkshops_Python_Excercises.ipynb#Try-it-#01)\n"
   ]
  },
  {
   "cell_type": "markdown",
   "metadata": {},
   "source": [
    "# Variables and Types \n",
    "\n",
    "Variables are used to store & access data<br>\n",
    "Most of the programs are targeted at processing data, in such programs we need to access store and output different kinds of data. <br>\n",
    "Variables with specific Types are useful in such cases. Find examples below. \n"
   ]
  },
  {
   "cell_type": "code",
   "execution_count": null,
   "metadata": {},
   "outputs": [],
   "source": [
    "x = 10\n",
    "y = 20 \n",
    "print(x)\n",
    "print(y)"
   ]
  },
  {
   "cell_type": "code",
   "execution_count": null,
   "metadata": {},
   "outputs": [],
   "source": [
    "#to know the type of a variable we will use type method as below\n",
    "print(\"type of x is \",type(x))\n",
    "a = 10.0\n",
    "print(\"type of a is \",type(a))\n",
    "b = \"python\"\n",
    "print(\"type of b is \",type(b))\n",
    "c = True\n",
    "print(\"type of c is \",type(c))\n",
    "\n",
    "\n"
   ]
  },
  {
   "cell_type": "markdown",
   "metadata": {},
   "source": [
    "As you see variables are not tightly coupled with types, see below example on how a single variable will change types basing on input value. "
   ]
  },
  {
   "cell_type": "code",
   "execution_count": null,
   "metadata": {},
   "outputs": [],
   "source": [
    "x = 10\n",
    "print(\"type of x is \",type(x))\n",
    "x = 2.3\n",
    "print(\"type of x is \",type(x))\n",
    "x = \"sameVariableName\"\n",
    "print(\"type of x is \",type(x))\n",
    "x = False\n",
    "print(\"type of x is \",type(x))\n",
    "#Null in Python is represented as None \n",
    "x=None"
   ]
  },
  {
   "cell_type": "code",
   "execution_count": null,
   "metadata": {},
   "outputs": [],
   "source": [
    "#create your own set of variables and assign some values\n"
   ]
  },
  {
   "cell_type": "markdown",
   "metadata": {},
   "source": [
    "### Type Conversions \n",
    "In some situation , we need to convert one type to other for doing some operation. \n",
    "\n",
    "Predefined methods may return specific type , but for processing or calculations we may need to convert. "
   ]
  },
  {
   "cell_type": "code",
   "execution_count": null,
   "metadata": {},
   "outputs": [],
   "source": [
    "str = \"1\"\n",
    "print(\"type of str is \",str, \" - \", type(str))\n",
    "\n",
    "#Converted to int\n",
    "print(\"type of int(str) is \",int(str), \" - \",type(int(str)))\n",
    "\n",
    "#Converted to float\n",
    "print(\"type of float(str) is \",float(str), \" - \",type(float(str)))\n",
    "\n",
    "#Converted to bolean\n",
    "print(\"type of bool(str) is \",bool(str), \" - \",type(bool(str)))"
   ]
  },
  {
   "cell_type": "code",
   "execution_count": null,
   "metadata": {},
   "outputs": [],
   "source": [
    "#Find the types of your variables"
   ]
  },
  {
   "cell_type": "markdown",
   "metadata": {},
   "source": [
    "### Complete  [Try it #02](PythonWorkshops_Python_Excercises.ipynb#Try-it-#02)\n"
   ]
  },
  {
   "cell_type": "markdown",
   "metadata": {},
   "source": [
    "# Indentation and Block of code\n",
    "\n",
    "Python strictly follows indentation in its code, other programing languages suggests Indentation as a good practice. But in python non indenteded code may throw errors <br><br>\n",
    "\n",
    "[What is the use of Indentation ?](http://mrbool.com/importance-of-code-indentation/29079)<br><br>\n",
    "\n",
    "We indent code in python by adding four spaces to the previous command line's starting position<br><br>\n",
    "a,b,c<br>\n",
    "....h,i,j<br>\n",
    "........u,v,w<br>\n",
    "........x,y,z<br>\n",
    "....k,l,m<br>\n",
    "e,f,g<br>\n",
    "\n",
    "** . is representing a space<br><br>\n",
    "\n",
    "In above example, <br>\n",
    "a,b,c<br>\n",
    "e,f,g are with same indentation <br>\n",
    "\n",
    "h,i,j<br>\n",
    "k,l,m are with same indentation <br>\n",
    "\n",
    "x,y,z are with same indentation <br>\n",
    "\n",
    "So block of code is group of lines with same indentation (x spaces)  until the line which has less than x spaces is written,<br> \n",
    "for example: <br>\n",
    "Block of code started at h,i,j (4 spaces) and is there till (k,l,m) when next line e,f,g has only 0(less than 4) spaces. <br>\n",
    "Block of code started at u,v,w (8 spaces) and is there till (x,y,z) when next line k,l,m has only 4(less than 8) spaces. <br><br>\n",
    "\n",
    "\n",
    "\n",
    "\n",
    "\n"
   ]
  },
  {
   "cell_type": "markdown",
   "metadata": {},
   "source": [
    "# Numbers and Math\n",
    "\n",
    "Calculations are core part of Programing (Data processing) <br>\n",
    "How many users registered today ? <br>\n",
    "What is the final bill with shipping ? <br> \n",
    "Total number of Visitors to the website ? "
   ]
  },
  {
   "cell_type": "code",
   "execution_count": null,
   "metadata": {},
   "outputs": [],
   "source": [
    "#Registered: 15 users each in 8 centers\n",
    "15*8"
   ]
  },
  {
   "cell_type": "code",
   "execution_count": null,
   "metadata": {},
   "outputs": [],
   "source": [
    "#Final Bill: 4 items of 12, 26, 29, 32 each and Shipping of 20\n",
    "12 + 26 + 29 + 32 + 20"
   ]
  },
  {
   "cell_type": "markdown",
   "metadata": {},
   "source": [
    "## Lets learn few python operators we can use with numbers"
   ]
  },
  {
   "cell_type": "markdown",
   "metadata": {},
   "source": [
    "### Arthmetic Operators"
   ]
  },
  {
   "cell_type": "code",
   "execution_count": null,
   "metadata": {},
   "outputs": [],
   "source": [
    "a = 6\n",
    "b = 12\n",
    "print(\"For given a =\", a,\" For given b =\", b)\n",
    "# + # Addition operator\n",
    "print(\"a+b = \",a+b)\n",
    "\n",
    "# - # Substraction operator\n",
    "print (\"a-b = \",a-b)\n",
    "\n",
    "# * # Multiplication operator\n",
    "print (\"a*b = \",a*b)\n",
    "\n",
    "# / # Division operator\n",
    "print (\"a/b = \",a/b)\n",
    "\n",
    "# % # Modulus operator\n",
    "print (\"a%b = \",a%b)\n",
    "\n",
    "# // # Floor Division operator\n",
    "print (\"a//b = \",a//b)\n",
    "\n",
    "# ** # Exponent operator\n",
    "print (\"a**b = \",a**b)\n"
   ]
  },
  {
   "cell_type": "markdown",
   "metadata": {},
   "source": [
    "### Complete  [Try it #03](PythonWorkshops_Python_Excercises.ipynb#Try-it-#03)\n"
   ]
  },
  {
   "cell_type": "markdown",
   "metadata": {},
   "source": [
    "### Comparission Operators"
   ]
  },
  {
   "cell_type": "code",
   "execution_count": null,
   "metadata": {},
   "outputs": [],
   "source": [
    "x = 10\n",
    "y = 12\n",
    "\n",
    "print(\"For given x =\", x,\" For given y =\", y)\n",
    "# Output: x > y is False\n",
    "print('x > y  is',x>y)\n",
    "\n",
    "# Output: x < y is True\n",
    "print('x < y  is',x<y)\n",
    "\n",
    "# Output: x == y is False\n",
    "print('x == y is',x==y)\n",
    "\n",
    "# Output: x != y is True\n",
    "print('x != y is',x!=y)\n",
    "\n",
    "# Output: x >= y is False\n",
    "print('x >= y is',x>=y)\n",
    "\n",
    "# Output: x <= y is True\n",
    "print('x <= y is',x<=y)\n",
    "print(\"\\n\")"
   ]
  },
  {
   "cell_type": "markdown",
   "metadata": {},
   "source": [
    "### Booleans\n",
    "\n",
    "All Logical operators expression will return boolean output either True or False \n",
    "So we will use statements with these operators to make decisions or flow of the overall program. "
   ]
  },
  {
   "cell_type": "markdown",
   "metadata": {},
   "source": [
    "### Complete  [Try it #04](PythonWorkshops_Python_Excercises.ipynb#Try-it-#04)"
   ]
  },
  {
   "cell_type": "markdown",
   "metadata": {},
   "source": [
    "### Logical Operators"
   ]
  },
  {
   "cell_type": "code",
   "execution_count": null,
   "metadata": {},
   "outputs": [],
   "source": [
    "x = 10\n",
    "y = 20\n",
    "z = 10\n",
    "print(\"For given x =\", x,\" For given y =\", y,\" For given z =\", z)\n",
    "\n",
    "print('x > z and y > z is',x > z and y > z)\n",
    "\n",
    "print('x > z or y > z is',x > z or y > z)\n",
    "\n",
    "print('not x > z is',not x > z)\n",
    "print(\"\\n\")"
   ]
  },
  {
   "cell_type": "markdown",
   "metadata": {},
   "source": [
    "### Complete  [Try it #05](PythonWorkshops_Python_Excercises.ipynb#Try-it-#05)"
   ]
  },
  {
   "cell_type": "markdown",
   "metadata": {},
   "source": [
    "### Bitwise Operators\n",
    "\n",
    "Bitwise operators act on operands as if they were string of binary digits. It operates bit by bit, hence the name.\n",
    "\n",
    "For example, 2 is <i>010</i> in binary and 6 is <i>110</i>."
   ]
  },
  {
   "cell_type": "code",
   "execution_count": null,
   "metadata": {},
   "outputs": [],
   "source": [
    "x = 2\n",
    "y = 6\n",
    "\n",
    "print(\"For given x =\", x,\" For given y =\", y)\n",
    "\n",
    "# & # Bitwise And operator\n",
    "print(\"x&y = \",x&y, \" 010 & 110 = 010\")\n",
    "\n",
    "# | # Bitwise or operator\n",
    "print(\"x|y = \",x|y, \" 010 | 110 = 110\")\n",
    "\n",
    "# ^ # Bitwise Xor operator\n",
    "print(\"x^y = \",x^y, \" 010 ^ 110 = 010\")\n",
    "\n",
    "# ~ # Bitwise not operator\n",
    "print(\"~x = \",~x, \" ~ 010 = 101\")\n",
    "\n",
    "# >> # Bitwise Right Shift operator\n",
    "print(\"x>>1 = \",x>>1, \"010 >> 1 = 001\")\n",
    "\n",
    "# << # Bitwise Left Shift operator\n",
    "print(\"x<<1 = \",x<<1, \"010 << 10\")\n",
    "print(\"\\n\")"
   ]
  },
  {
   "cell_type": "markdown",
   "metadata": {},
   "source": [
    "### Complete  [Try it #06](PythonWorkshops_Python_Excercises.ipynb#Try-it-#06)\n"
   ]
  },
  {
   "cell_type": "markdown",
   "metadata": {},
   "source": [
    "### Assignment operator\n",
    "We have already seen the assignment operator in above examples<br>\n",
    "a = 25<br>\n",
    "because of above statement variable a takes the value 25 and type int<br>\n",
    "\n",
    "Similarly above Arthimetic and Bitwise operators can also be applied with assignment operator as shorter version as shown below"
   ]
  },
  {
   "cell_type": "code",
   "execution_count": null,
   "metadata": {},
   "outputs": [],
   "source": [
    "a = 25\n",
    "b = 15\n",
    "\n",
    "#Arthimetic and Bitwise operators along with Assignment\n",
    "a *= 4\n",
    "print(\"a *= 4 is \",a,\"\\n that is equal to a = a*4\")\n",
    "\n",
    "b **= 2\n",
    "print(\"b **= 2\", b,\"\\n that is equal to b = b**2\")\n",
    "\n",
    "\n",
    "a ^= 4\n",
    "print(\"a ^= 4 is \",a,\"\\n that is equal to a = a^4\")\n",
    "\n",
    "b &= 2\n",
    "print(\"b &= 2\", b,\"\\n that is equal to b = b&2\")\n",
    "\n"
   ]
  },
  {
   "cell_type": "code",
   "execution_count": null,
   "metadata": {},
   "outputs": [],
   "source": [
    "#using assignment operator increase a by 1 \n",
    "\n",
    "#Write your code here"
   ]
  },
  {
   "cell_type": "markdown",
   "metadata": {},
   "source": [
    "### Identity Operators\n",
    "\n",
    "is and is not are used to verify the type or class of variable as shown in the below example"
   ]
  },
  {
   "cell_type": "code",
   "execution_count": null,
   "metadata": {},
   "outputs": [],
   "source": [
    "x = 10\n",
    "print(\"x value is \",x)\n",
    "print(type(x) is int)\n",
    "print(type(x) is float)\n",
    "print(type(x) is str)\n",
    "\n",
    "x = \"python\"\n",
    "print(\"x value is \",x)\n",
    "print(type(x) is not int)\n",
    "print(type(x) is not float)\n",
    "print(type(x) is not str)\n",
    "print(type(x) is str)\n"
   ]
  },
  {
   "cell_type": "code",
   "execution_count": null,
   "metadata": {},
   "outputs": [],
   "source": [
    "#variables you created before check if they are int or not ?\n",
    "\n",
    "#write your code here"
   ]
  },
  {
   "cell_type": "markdown",
   "metadata": {},
   "source": [
    "### Membership operators\n",
    "\n",
    "in and not in are used to find out if the x value is present in y<br>\n",
    "Please check the examples below"
   ]
  },
  {
   "cell_type": "code",
   "execution_count": null,
   "metadata": {},
   "outputs": [],
   "source": [
    "x = 'a'\n",
    "y = 'raja'\n",
    "z = 'b'\n",
    "print(x in y)\n",
    "print(z not in y)"
   ]
  },
  {
   "cell_type": "code",
   "execution_count": null,
   "metadata": {},
   "outputs": [],
   "source": [
    "#check if string y has a , e , i, o or u \n",
    "\n",
    "#write your code here"
   ]
  },
  {
   "cell_type": "markdown",
   "metadata": {},
   "source": [
    "We will see more about membership operators along with Python datastructures."
   ]
  },
  {
   "cell_type": "markdown",
   "metadata": {},
   "source": [
    "## Input from users\n"
   ]
  },
  {
   "cell_type": "code",
   "execution_count": null,
   "metadata": {},
   "outputs": [],
   "source": [
    "#To take input from users\n",
    "no_of_prods = input(\"Enter the number of products: \")"
   ]
  },
  {
   "cell_type": "markdown",
   "metadata": {},
   "source": [
    "input method will return string by default, you need to [convert the type](#Type-Conversions) as per requirement. "
   ]
  },
  {
   "cell_type": "code",
   "execution_count": null,
   "metadata": {},
   "outputs": [],
   "source": [
    "bill_amount = int(no_of_prods)*30\n",
    "print(\"You need to pay - \",bill_amount)"
   ]
  },
  {
   "cell_type": "code",
   "execution_count": null,
   "metadata": {},
   "outputs": [],
   "source": [
    "#take input from user if he liked python workshop so far\n",
    "\n",
    "#write your code here"
   ]
  },
  {
   "cell_type": "markdown",
   "metadata": {
    "collapsed": true
   },
   "source": [
    "### Complete  [Try it #07](PythonWorkshops_Python_Excercises.ipynb#Try-it-#07)\n"
   ]
  },
  {
   "cell_type": "markdown",
   "metadata": {},
   "source": [
    "## Passing Arguments\n",
    "\n",
    "Python code could be written in files and usually stored with extension <filename>.py<br>\n",
    "To execute python code in a file, we run python <filename>.py <br>\n",
    "For example: <br>\n",
    "We want to create python file which can print bill from Input from users section <br>\n",
    "open your code editor or notepad and copy paste your code <br><br>\n",
    "\n",
    "#To take input from users<br>\n",
    "no_of_prods = input(\"Enter the number of products: \")<br>\n",
    "bill_amount = int(no_of_prods)*30<br>\n",
    "print(\"You need to pay - \",bill_amount)<br><br>\n",
    "\n",
    "save it as print_bill.py<br><br>\n",
    "\n",
    "open command prompt/terminal, go to the path where you saved the file<br>\n",
    "run command <i>python printBill.py</i><br>"
   ]
  },
  {
   "cell_type": "raw",
   "metadata": {},
   "source": [
    "## Add an image here with the output screen in documents folder. "
   ]
  },
  {
   "cell_type": "markdown",
   "metadata": {},
   "source": [
    "For the above case , we have hardcoded the product cost as 30, lets say we want to pass custom price for every bill<br>\n",
    "we need to pass the product cost for every execution, as below <br>\n",
    "run command <i>python printBill.py 25</i><br><br>\n",
    "\n",
    "Good we know, how to pass an argument, but we are yet to figure out how to access the value in the program<br><br>\n",
    "\n",
    "add below lines to the program<br><br>\n",
    "\n",
    "import sys<br>\n",
    "#This is how to import [python libraries](https://docs.python.org/3/library)<br>\n",
    "#details of [sys library](https://docs.python.org/3/library/sys.html)<br>\n",
    "#sys.argv[0] --> program name<br>\n",
    "#sys.argv[1]-> first argument<br>\n",
    "#sys.argv[2-> second argument<br><br>\n",
    "\n",
    "#argument is by default a string so we need to convert it<br>\n",
    "product_price = int(sys.argv[1])<br><br>\n",
    "\n",
    "#To take input from users<br>\n",
    "no_of_prods = input(\"Enter the number of products: \")<br>\n",
    "bill_amount = int(no_of_prods)*product_price<br>\n",
    "print(\"You need to pay - \",bill_amount)<br><br>"
   ]
  },
  {
   "cell_type": "markdown",
   "metadata": {},
   "source": [
    "### Complete  [Try it #08](PythonWorkshops_Python_Excercises.ipynb#Try-it-#08)\n"
   ]
  },
  {
   "cell_type": "markdown",
   "metadata": {},
   "source": [
    "## Functions, Parameters, Returns\n",
    "\n",
    "Functions are a block of code written to solve some purpose, to reuse the same block of code and to increase the overall readability of the code. <br>\n",
    "\n",
    "We have already used few functions like print, type, int, str, float etc. These are all predefined functions(available in Python libraries)<br>\n",
    "\n",
    "But what if we want to define our own function, <br>\n",
    "\n",
    "For example: Lets say, we want a fucntion which will apply discount on a given bill amount and return the effective amount post discount. <br>\n",
    "we will define a function as below \n"
   ]
  },
  {
   "cell_type": "code",
   "execution_count": null,
   "metadata": {},
   "outputs": [],
   "source": [
    "def apply_discount():\n",
    "    discount = 10\n",
    "    final_amount = amount - (amount*discount)/100\n",
    "    return final_amount"
   ]
  },
  {
   "cell_type": "markdown",
   "metadata": {},
   "source": [
    "So defining function is one part and access it is the other part. How do we call the above method is as given below. "
   ]
  },
  {
   "cell_type": "code",
   "execution_count": null,
   "metadata": {},
   "outputs": [],
   "source": [
    "bill_amount = apply_discount()"
   ]
  },
  {
   "cell_type": "markdown",
   "metadata": {},
   "source": [
    "oh bad it failed, what is the problem ? <br>\n",
    "Yes, to apply discount, Function needs to know what is the bill amount. So there needs to be way to pass values to function<br<\n",
    "as below"
   ]
  },
  {
   "cell_type": "code",
   "execution_count": null,
   "metadata": {},
   "outputs": [],
   "source": [
    "def apply_discount(amount):\n",
    "    discount = 10\n",
    "    final_amount = amount - (amount*discount)/100\n",
    "    return final_amount\n",
    "\n",
    "#To take input from users\n",
    "no_of_prods = input(\"Enter the number of products: \")\n",
    "\n",
    "bill_amount = int(no_of_prods)*30\n",
    "print(\"Your bill before discount - \",bill_amount)\n",
    "\n",
    "final_bill_amount = apply_discount(bill_amount)\n",
    "print(\"Your Final bill after discount - \",final_bill_amount)\n",
    "print(\"you saved - \",bill_amount - final_bill_amount)\n",
    "\n"
   ]
  },
  {
   "cell_type": "markdown",
   "metadata": {},
   "source": [
    "What if you want to apply discount also dynamically as per customer. "
   ]
  },
  {
   "cell_type": "code",
   "execution_count": null,
   "metadata": {},
   "outputs": [],
   "source": [
    "#Below is a function defintion \n",
    "def apply_discount(amount,discount=10):\n",
    "    #amount and discount are he parameters to the function\n",
    "    final_amount = amount - (amount*discount)/100\n",
    "    #final_amount is the return value from function, if there is nothing you can say return None\n",
    "    return final_amount\n",
    "\n",
    "#To take input from users\n",
    "no_of_prods = input(\"Enter the number of products: \")\n",
    "\n",
    "bill_amount = int(no_of_prods)*30\n",
    "print(\"Your bill before discount - \",bill_amount)\n",
    "#This is how the function call with arguments or parameters will work  \n",
    "final_bill_amount = apply_discount(bill_amount,20)\n",
    "print(\"Your Final bill after discount - \",final_bill_amount)\n",
    "print(\"you saved - \",bill_amount - final_bill_amount)\n"
   ]
  },
  {
   "cell_type": "code",
   "execution_count": null,
   "metadata": {},
   "outputs": [],
   "source": [
    "# Write a function that will take mobile number input from user \n",
    "# and return last 2 digits of the mobile number\n",
    "\n",
    "#Write your code here"
   ]
  },
  {
   "cell_type": "markdown",
   "metadata": {},
   "source": [
    "### Complete  [Try it #09](PythonWorkshops_Python_Excercises.ipynb#Try-it-#09)\n"
   ]
  },
  {
   "cell_type": "markdown",
   "metadata": {},
   "source": [
    "## Conditional statements - If elif else\n",
    "\n",
    "Following above example of billing system, <br>\n",
    "\n",
    "we assumed there is only one product and hardcoded the cost, what if there are three products 'A', 'B', 'C' with 10, 20, 30 cost respectively. So basing on which product he has taken we need to pick the cost. <br>\n",
    "\n",
    "So we use if , elif and else statement here as below<br>\n",
    "\n",
    "if(<i>condition1</i>):<br>\n",
    "    #block_of_code1<br>\n",
    "elif(<i>condition2</i>):<br>\n",
    "    #block_of_code2<br>\n",
    "else:<br>\n",
    "    #block_of_code3<br>\n",
    "    \n",
    "Above code does this, <br>\n",
    "If condition1 is correct it will execute block_of_code1<br>\n",
    "else-if(elif) (condition1 is wrong -)condition2 is correct it will execute block_of_code2<br>\n",
    "else alone used at the end represents both condition1 and condition2 are false<br>\n"
   ]
  },
  {
   "cell_type": "code",
   "execution_count": null,
   "metadata": {},
   "outputs": [],
   "source": [
    "cost_A = 10\n",
    "cost_B = 20\n",
    "cost_C = 30\n",
    "\n",
    "#Below is a function defintion \n",
    "def apply_discount(amount,discount):\n",
    "    #amount and discount are he parameters to the function\n",
    "    final_amount = amount - (amount*discount)/100\n",
    "    #final_amount is the return value from function, if there is nothing you can say return None\n",
    "    return final_amount\n",
    "\n",
    "#To take input from users\n",
    "product_name  = input(\"Enter the product Name, A, B, C: \")\n",
    "no_of_prods = input(\"Enter the number of products: \")\n",
    "if(product_name == \"A\"):\n",
    "    bill_amount = int(no_of_prods)*cost_A\n",
    "elif(product_name == \"B\"):\n",
    "    bill_amount = int(no_of_prods)*cost_B\n",
    "elif(product_name == \"C\"):\n",
    "    bill_amount = int(no_of_prods)*cost_C\n",
    "else:\n",
    "    bill_amount = int(no_of_prods)*30\n",
    "\n",
    "\n",
    "print(\"Your bill before discount - \",bill_amount)\n",
    "#This is how the function call with arguments or parameters will work  \n",
    "final_bill_amount = apply_discount(bill_amount,20)\n",
    "print(\"Your Final bill after discount - \",final_bill_amount)\n",
    "print(\"you saved - \",bill_amount - final_bill_amount)\n"
   ]
  },
  {
   "cell_type": "code",
   "execution_count": null,
   "metadata": {},
   "outputs": [],
   "source": [
    "#Take input of age from first person\n",
    "\n",
    "#Take input of age from second person \n",
    "\n",
    "#write code which will print below output \n",
    "#first person is elder to second\n",
    "#or\n",
    "#second person is elder to first\n",
    "#Both are of the same age\n",
    "\n",
    "#use if, elif and else\n",
    "\n",
    "#write your code here"
   ]
  },
  {
   "cell_type": "markdown",
   "metadata": {},
   "source": [
    "## Loops - For and While \n",
    "\n",
    "Continuing above example of billing system,<br>\n",
    "we had a key assumption, Somu can buy only one product A or B or C<br>\n",
    "What if Somu want to buy 1 or 2 or 3 type of the products at the same time.<br>\n",
    "\n",
    "So when ever there is situation where we need to repeat an action multiple times basing on condition or data, we will use loops<br>\n",
    "Check the example below, \n",
    "Lets say Somu is in quick counter where they allow only 5 items for billing"
   ]
  },
  {
   "cell_type": "code",
   "execution_count": null,
   "metadata": {},
   "outputs": [],
   "source": [
    "cost_A = 10\n",
    "cost_B = 20\n",
    "cost_C = 30\n",
    "bill_amount = 0\n",
    "#Below is a function defintion \n",
    "def apply_discount(amount,discount):\n",
    "    #amount and discount are he parameters to the function\n",
    "    final_amount = amount - (amount*discount)/100\n",
    "    #final_amount is the return value from function, if there is nothing you can say return None\n",
    "    return final_amount\n",
    "\n",
    "for i in range(5):\n",
    "    #To take input from users\n",
    "    product_name  = input(\"Enter the product Name, A, B, C: \")\n",
    "    no_of_prods = input(\"Enter the number of products: \")\n",
    "    if(product_name == \"A\"):\n",
    "        bill_amount += int(no_of_prods)*cost_A\n",
    "    elif(product_name == \"B\"):\n",
    "        bill_amount += int(no_of_prods)*cost_B\n",
    "    elif(product_name == \"C\"):\n",
    "        bill_amount += int(no_of_prods)*cost_C\n",
    "    else:\n",
    "        bill_amount += int(no_of_prods)*30\n",
    "    \n",
    "\n",
    "\n",
    "print(\"\\nYour bill before discount - \",bill_amount)\n",
    "#This is how the function call with arguments or parameters will work  \n",
    "final_bill_amount = apply_discount(bill_amount,20)\n",
    "print(\"Your Final bill after discount - \",final_bill_amount)\n",
    "print(\"you saved - \",bill_amount - final_bill_amount)"
   ]
  },
  {
   "cell_type": "markdown",
   "metadata": {},
   "source": [
    "What if Somu picks more than 5 items and we dont know, how many items are present. how do we do billing ? "
   ]
  },
  {
   "cell_type": "code",
   "execution_count": null,
   "metadata": {},
   "outputs": [],
   "source": [
    "cost_A = 10\n",
    "cost_B = 20\n",
    "cost_C = 30\n",
    "more = \"1\"\n",
    "bill_amount = 0\n",
    "#Below is a function defintion \n",
    "def apply_discount(amount,discount):\n",
    "    #amount and discount are he parameters to the function\n",
    "    final_amount = amount - (amount*discount)/100\n",
    "    #final_amount is the return value from function, if there is nothing you can say return None\n",
    "    return final_amount\n",
    "\n",
    "while(more == \"1\" or more.upper() ==\"YES\"):\n",
    "    #To take input from users\n",
    "    product_name  = input(\"Enter the product Name, A, B, C: \")\n",
    "    no_of_prods = input(\"Enter the number of products: \")\n",
    "    if(product_name == \"A\"):\n",
    "        bill_amount += int(no_of_prods)*cost_A\n",
    "    elif(product_name == \"B\"):\n",
    "        bill_amount += int(no_of_prods)*cost_B\n",
    "    elif(product_name == \"C\"):\n",
    "        bill_amount += int(no_of_prods)*cost_C\n",
    "    else:\n",
    "        bill_amount += int(no_of_prods)*30\n",
    "    more=input(\"Do you need more products? 1-Yes or 0-No \")\n",
    "\n",
    "\n",
    "print(\"\\nYour bill before discount - \",bill_amount)\n",
    "#This is how the function call with arguments or parameters will work  \n",
    "final_bill_amount = apply_discount(bill_amount,20)\n",
    "print(\"Your Final bill after discount - \",final_bill_amount)\n",
    "print(\"you saved - \",bill_amount - final_bill_amount)"
   ]
  },
  {
   "cell_type": "code",
   "execution_count": null,
   "metadata": {},
   "outputs": [],
   "source": [
    "#Write a program, which will ask user for input \n",
    "\n",
    "#Print if the number is even or odd \n",
    "\n",
    "#if the input number is 0 , exit the loop\n",
    "\n",
    "#Use while loop\n",
    "\n",
    "#write your code here"
   ]
  },
  {
   "cell_type": "markdown",
   "metadata": {},
   "source": [
    "* For Loop<br>\n",
    "Mostly used for access of data and processing as searching etc. <br>\n",
    "<img src=\"https://www.tutorialspoint.com/python/images/python_for_loop.jpg\">\n",
    "\n",
    "\n",
    "\n",
    "* While Loop<br>\n",
    "condition most of the times uses logical operators along with some data.<br>\n",
    "<img src=\"https://www.tutorialspoint.com/python/images/loop_architecture.jpg\">\n",
    "\n"
   ]
  },
  {
   "cell_type": "markdown",
   "metadata": {
    "collapsed": true
   },
   "source": [
    "Good, you helped Somu buy things in a super market, for both 5 items and items more than 5. <br><br>\n",
    "But 5 items section we are assuming that he will be taking 5 items, but normally it can also be less than 5 items. <br>\n",
    "\n",
    "If you run the code with For loop, even though it has less than 5 items, it asks for 5 items. TO fix it, as in while loop, in for loop also we can break in between through <i> break </i> command.<br>\n",
    "We can also handle scenario where the product name is not in the list, we need to ignore it and ask for next product. we use <i> continue </i> command for it. "
   ]
  },
  {
   "cell_type": "code",
   "execution_count": null,
   "metadata": {},
   "outputs": [],
   "source": [
    "cost_A = 10\n",
    "cost_B = 20\n",
    "cost_C = 30\n",
    "bill_amount = 0\n",
    "#Below is a function defintion \n",
    "def apply_discount(amount,discount):\n",
    "    #amount and discount are he parameters to the function\n",
    "    final_amount = amount - (amount*discount)/100\n",
    "    #final_amount is the return value from function, if there is nothing you can say return None\n",
    "    return final_amount\n",
    "\n",
    "for i in range(5):\n",
    "    #To take input from users\n",
    "    product_name  = input(\"Enter the product Name, A, B, C, NM(No more): \")\n",
    "    if(product_name == \"NM\"):\n",
    "        break\n",
    "    elif(product_name != \"A\" and product_name != \"B\" and product_name != \"C\" ):\n",
    "        print(\"Invalid product Name, check it again - \",product_name)\n",
    "        continue\n",
    "    no_of_prods = input(\"Enter the number of products: \")\n",
    "    if(product_name == \"A\"):\n",
    "        bill_amount += int(no_of_prods)*cost_A\n",
    "    elif(product_name == \"B\"):\n",
    "        bill_amount += int(no_of_prods)*cost_B\n",
    "    elif(product_name == \"C\"):\n",
    "        bill_amount += int(no_of_prods)*cost_C\n",
    "    else:\n",
    "        bill_amount += int(no_of_prods)*30\n",
    "    \n",
    "    \n",
    "\n",
    "\n",
    "print(\"\\nYour bill before discount - \",bill_amount)\n",
    "#This is how the function call with arguments or parameters will work  \n",
    "final_bill_amount = apply_discount(bill_amount,20)\n",
    "print(\"Your Final bill after discount - \",final_bill_amount)\n",
    "print(\"you saved - \",bill_amount - final_bill_amount)"
   ]
  },
  {
   "cell_type": "code",
   "execution_count": null,
   "metadata": {},
   "outputs": [],
   "source": [
    "#loop through 0 to 35 and print all 3 multiples\n",
    "\n",
    "#use for loop and if statement\n",
    "\n",
    "#write your code here"
   ]
  },
  {
   "cell_type": "markdown",
   "metadata": {},
   "source": [
    "### Complete  [Try it #10](PythonWorkshops_Python_Excercises.ipynb#Try-it-#10)\n"
   ]
  },
  {
   "cell_type": "markdown",
   "metadata": {},
   "source": [
    "## Data Structures "
   ]
  },
  {
   "cell_type": "markdown",
   "metadata": {},
   "source": [
    "### [Lists](PythonWorkshops_Python_Lists.ipynb)\n",
    "\n",
    "Click above link to leanr about Lists in Python"
   ]
  },
  {
   "cell_type": "markdown",
   "metadata": {},
   "source": [
    "## Tuples\n",
    " Tuples are unmutable Lists, They cant be updated <br>\n",
    " starts with ( and end with ), has data with , seperated values - (1,2,3,4)<br>\n",
    " "
   ]
  },
  {
   "cell_type": "code",
   "execution_count": null,
   "metadata": {},
   "outputs": [],
   "source": [
    "new_tuple = ()\n",
    "print(new_tuple)\n",
    "new_tuple = (1)\n",
    "print(new_tuple)"
   ]
  },
  {
   "cell_type": "code",
   "execution_count": null,
   "metadata": {},
   "outputs": [],
   "source": [
    "#but updating and removing a element in tuple is not possible\n",
    "new_tuple[0] = 10\n",
    "\n",
    "del new_tuple[0]\n",
    "\n",
    "#Above statements will throw errors"
   ]
  },
  {
   "cell_type": "code",
   "execution_count": null,
   "metadata": {},
   "outputs": [],
   "source": [
    "#By default python takes it as a tuple , not a list \n",
    "second_tuple = 1,2,3,4\n",
    "print(second_tuple)"
   ]
  },
  {
   "cell_type": "markdown",
   "metadata": {},
   "source": [
    "* For more info about tuples fucntions [refer this link](https://docs.python.org/3/library/stdtypes.html#tuple)"
   ]
  },
  {
   "cell_type": "markdown",
   "metadata": {},
   "source": [
    "### Complete  [Try it #11](PythonWorkshops_Python_Excercises.ipynb#Try-it-#11)\n"
   ]
  },
  {
   "cell_type": "markdown",
   "metadata": {},
   "source": [
    "### [Dictionaries](PythonWorkshops_Python_Dictionaries.ipynb)\n",
    "\n",
    "Click above link to leant about Python Dictionaries"
   ]
  },
  {
   "cell_type": "markdown",
   "metadata": {},
   "source": [
    "###  Sets\n",
    "\n",
    "A set object is an unordered collection of distinct hashable objects. Common uses include membership testing, removing duplicates from a sequence, and computing mathematical operations such as intersection, union, difference, and symmetric difference.<br>\n",
    "\n",
    "For more detailed info on Sets [Refer here](https://docs.python.org/3/library/stdtypes.html#set-types-set-frozenset)"
   ]
  },
  {
   "cell_type": "code",
   "execution_count": null,
   "metadata": {},
   "outputs": [],
   "source": [
    "first_set = set([1,2,3,3,1,2,4,5])\n",
    "second_set = set([22,4,1,8,9,9])"
   ]
  },
  {
   "cell_type": "code",
   "execution_count": null,
   "metadata": {},
   "outputs": [],
   "source": [
    "print(len(first_set))\n",
    "\n",
    "print(3 in second_set)\n",
    "\n",
    "print(first_set.issubset(second_set))\n"
   ]
  },
  {
   "cell_type": "markdown",
   "metadata": {},
   "source": [
    "#### Functions on Sets"
   ]
  },
  {
   "cell_type": "code",
   "execution_count": null,
   "metadata": {},
   "outputs": [],
   "source": [
    "print(first_set.union(second_set))\n",
    "\n",
    "print(first_set.intersection(second_set))\n",
    "\n",
    "print(second_set.difference(first_set))\n",
    "\n",
    "#Few more functions on sets Add, Remove, Discard, Clear"
   ]
  },
  {
   "cell_type": "markdown",
   "metadata": {},
   "source": [
    "* To get more details and function details on Sets, [Refer to this link](https://docs.python.org/3/library/stdtypes.html#set)"
   ]
  },
  {
   "cell_type": "markdown",
   "metadata": {},
   "source": [
    "### [Strings](PythonWorkshops_Python_Strings.ipynb)\n",
    "\n",
    "Click above link to learn about Strings in Python"
   ]
  },
  {
   "cell_type": "markdown",
   "metadata": {},
   "source": [
    "### File operations\n",
    "\n",
    "This section deals with how you can read a file , write to a file and other operations. <br>\n",
    "\n",
    "Writing to a File"
   ]
  },
  {
   "cell_type": "code",
   "execution_count": null,
   "metadata": {},
   "outputs": [],
   "source": [
    "#open a file with certain access\n",
    "file_access = open('learn_python.txt','w+')\n",
    "\n",
    "file_access.write(\"I am writing this string to the file through file object\")\n",
    "\n",
    "print(file_access.name)\n",
    "\n",
    "#clsoe the file object\n",
    "file_access.close()"
   ]
  },
  {
   "cell_type": "markdown",
   "metadata": {},
   "source": [
    "Reading from a File"
   ]
  },
  {
   "cell_type": "code",
   "execution_count": null,
   "metadata": {
    "scrolled": true
   },
   "outputs": [],
   "source": [
    "import os\n",
    "file_again = open('learn_python.txt','r+')\n",
    "\n",
    "#read method can take argument which will tell how many character needs to be read, if not specified it will read everything. \n",
    "print(file_again.read(15))\n",
    "#os.getcwd()    \n",
    "file_again.close();"
   ]
  },
  {
   "cell_type": "code",
   "execution_count": null,
   "metadata": {},
   "outputs": [],
   "source": [
    "import os\n",
    "#os level file operations\n",
    "\n",
    "#renaming file name \n",
    "os.rename(\"learn_python.txt\",\"learnpython.txt\")\n",
    "\n",
    "#Deleting the file\n",
    "os.remove(\"learnpython.txt\")\n",
    "\n",
    "#Create directory\n",
    "os.mkdir(\"pythondir\")\n",
    "\n",
    "#get present working director\n",
    "print(os.getcwd())\n",
    "\n",
    "#changing the director\n",
    "os.chdir(\"pythondir\")"
   ]
  },
  {
   "cell_type": "markdown",
   "metadata": {},
   "source": [
    "### Complete  [Try it #14](PythonWorkshops_Python_Excercises.ipynb#Try-it-#14)\n"
   ]
  },
  {
   "cell_type": "markdown",
   "metadata": {},
   "source": [
    "\n",
    "### Exception handling"
   ]
  },
  {
   "cell_type": "code",
   "execution_count": null,
   "metadata": {},
   "outputs": [],
   "source": [
    "try:\n",
    "    print(\"useless\"+3)\n",
    "    # Change plus to multiplication operator * to see different output\n",
    "except IOError:\n",
    "    print(\"IO Error\")\n",
    "except Exception as inst:\n",
    "    print(\"Exception\",type(inst),inst)\n",
    "else: \n",
    "    print(\"If there is no Exception\")\n",
    "finally: \n",
    "    print(\"If there is a exception or not this Finally will get executed.\")"
   ]
  },
  {
   "cell_type": "markdown",
   "metadata": {},
   "source": [
    "To see list of built in Exception , you can use the below link<br>\n",
    "[Python Builtin Exception](https://docs.python.org/3/library/exceptions.html#bltin-exceptions)"
   ]
  },
  {
   "cell_type": "markdown",
   "metadata": {
    "collapsed": true
   },
   "source": [
    "### Complete  [Try it #15](PythonWorkshops_Python_Excercises.ipynb#Try-it-#15)\n"
   ]
  },
  {
   "cell_type": "markdown",
   "metadata": {},
   "source": [
    "* For official reference of Python [Refer this link](https://docs.python.org/3/library/index.html)"
   ]
  },
  {
   "cell_type": "markdown",
   "metadata": {},
   "source": [
    "## Python Project "
   ]
  },
  {
   "cell_type": "markdown",
   "metadata": {
    "collapsed": true
   },
   "source": [
    "Now that you have completed the python practice of all basic commands and their usage. And after you have completed  and uploaded the Excercises Solutions. Lets do what ever we have learnt to work<br><br>\n",
    "\n",
    "[Click on this link and Complete the Project.](PythonWorkshops_Python_Project.ipynb) \n"
   ]
  },
  {
   "cell_type": "code",
   "execution_count": null,
   "metadata": {},
   "outputs": [],
   "source": []
  }
 ],
 "metadata": {
  "kernelspec": {
   "display_name": "Python 3",
   "language": "python",
   "name": "python3"
  },
  "language_info": {
   "codemirror_mode": {
    "name": "ipython",
    "version": 3
   },
   "file_extension": ".py",
   "mimetype": "text/x-python",
   "name": "python",
   "nbconvert_exporter": "python",
   "pygments_lexer": "ipython3",
   "version": "3.6.3"
  }
 },
 "nbformat": 4,
 "nbformat_minor": 2
}
